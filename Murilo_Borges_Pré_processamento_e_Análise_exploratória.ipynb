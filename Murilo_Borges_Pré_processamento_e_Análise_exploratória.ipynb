{
  "nbformat": 4,
  "nbformat_minor": 0,
  "metadata": {
    "colab": {
      "provenance": [],
      "authorship_tag": "ABX9TyN7X32vh3o1/pqxBmcxW1C5",
      "include_colab_link": true
    },
    "kernelspec": {
      "name": "python3",
      "display_name": "Python 3"
    },
    "language_info": {
      "name": "python"
    }
  },
  "cells": [
    {
      "cell_type": "markdown",
      "metadata": {
        "id": "view-in-github",
        "colab_type": "text"
      },
      "source": [
        "<a href=\"https://colab.research.google.com/github/muriloborges16/Tecnicas-de-Pre-processamento/blob/main/Murilo_Borges_Pr%C3%A9_processamento_e_An%C3%A1lise_explorat%C3%B3ria.ipynb\" target=\"_parent\"><img src=\"https://colab.research.google.com/assets/colab-badge.svg\" alt=\"Open In Colab\"/></a>"
      ]
    },
    {
      "cell_type": "markdown",
      "source": [
        "# Técnicas de Pré-processamento e Análise exploratória\n",
        "\n",
        "Técnicas de **pré-processamento** e **análise exploratória** são etapas importantes no processo de análise de dados.\n",
        "\n",
        "Quando trabalhamos com análise de dados normalmente lidamos com datasets que, na maioria dos casos estão sem nenhum tipo de pré-processamento, porém para realizarmos a análise exploratória precisamos tratar estes dados e garantir que estejam em um formato adequado para serem usados na análise e que não contenham erros ou valores inválidos.\n",
        "\n",
        "O **pré-processamento de dados** envolve a preparação dos dados para análise, que pode incluir várias atividades, como limpeza de dados, preenchimento de valores faltantes, transformação de dados, normalização de dados, seleção de recursos relevantes, dentre outros.\n",
        "\n",
        "Já a **análise exploratória** envolve a exploração e a compreensão dos dados, utilizando diversas técnicas estatísticas e de visualização. Essas técnicas permitem entender melhor a distribuição dos dados, identificar padrões, tendências, relações e outliers, avaliar a qualidade dos dados, e obter informações claras e objetivas sobre o problema que está sendo analisado."
      ],
      "metadata": {
        "id": "kSHUO__HYxzW"
      }
    },
    {
      "cell_type": "markdown",
      "source": [
        "# Base de Dados\n",
        "\n",
        "Para entender melhor algumas dessas técnicas, iremos fazer uma aplicação em um dataset do Kaggle, que pode ser encontrado [aqui](https://www.kaggle.com/datasets/muqarrishzaib/tmdb-10000-movies-dataset).\n",
        "\n",
        "O dataset contém informações sobre 10.000 filmes e o conjunto de dados foi criado a partir da API oficial fornecida pelo TMDB.\n",
        "\n",
        "As colunas no arquivo incluem:\n",
        "\n",
        "\n",
        "\n",
        "* Id\n",
        "* linguagem original\n",
        "* título original\n",
        "* visão geral\n",
        "* popularidade\n",
        "* data de lançamento\n",
        "* título\n",
        "* Nota do público\n",
        "* Quandtidade votos "
      ],
      "metadata": {
        "id": "fgSoNVoqe7Dl"
      }
    },
    {
      "cell_type": "markdown",
      "source": [
        "# Importação e Consolidação dos Dados\n",
        "\n",
        "A manipulação dos dados será realizada com a biblioteca Pandas."
      ],
      "metadata": {
        "id": "QRLGv34Fh2Kt"
      }
    },
    {
      "cell_type": "code",
      "execution_count": 39,
      "metadata": {
        "id": "eGDneXia9EzU"
      },
      "outputs": [],
      "source": [
        "#Importando o Pandas\n",
        "import pandas as pd"
      ]
    },
    {
      "cell_type": "markdown",
      "source": [
        "A importação dos dados para o collab pode ser feita de diferentes maneiras.\n",
        "\n",
        "Você pode fazer upload do arquivodiretamente para o collab, importar via URL ou via Google Drive fazendo upload do arquivo para alguma pasta da sua conta do Drive."
      ],
      "metadata": {
        "id": "j9438l3Ri0l6"
      }
    },
    {
      "cell_type": "markdown",
      "source": [
        "Para acessar os arquivos da sua conta no Google Drive você precisa executar o código da célula abaixo "
      ],
      "metadata": {
        "id": "-isFakPXiT_8"
      }
    },
    {
      "cell_type": "code",
      "source": [
        "from google.colab import drive\n",
        "drive.mount('/content/drive')"
      ],
      "metadata": {
        "colab": {
          "base_uri": "https://localhost:8080/"
        },
        "id": "TLoWsygJ-bXT",
        "outputId": "33b745f2-7878-46d8-a0fe-34c8b0ab455d"
      },
      "execution_count": 40,
      "outputs": [
        {
          "output_type": "stream",
          "name": "stdout",
          "text": [
            "Drive already mounted at /content/drive; to attempt to forcibly remount, call drive.mount(\"/content/drive\", force_remount=True).\n"
          ]
        }
      ]
    },
    {
      "cell_type": "code",
      "source": [
        "#Importando a base para o dataset\n",
        "df = pd.read_csv(\"/content/drive/MyDrive/Colab Notebooks/TMDB 10000 Movies Dataset.csv\")"
      ],
      "metadata": {
        "id": "vTbjkm6b-nq6"
      },
      "execution_count": 41,
      "outputs": []
    },
    {
      "cell_type": "markdown",
      "source": [
        "### Manipulação do Dataframe"
      ],
      "metadata": {
        "id": "G2XS1zsikrtG"
      }
    },
    {
      "cell_type": "code",
      "source": [
        "#visualização do dataframe\n",
        "df"
      ],
      "metadata": {
        "colab": {
          "base_uri": "https://localhost:8080/",
          "height": 641
        },
        "id": "00OJKXyzABAM",
        "outputId": "df60c7c4-55b8-480a-b619-9d5c510f5391"
      },
      "execution_count": 42,
      "outputs": [
        {
          "output_type": "execute_result",
          "data": {
            "text/plain": [
              "          id original_language             original_title  \\\n",
              "0     851644                ko                    20세기 소녀   \n",
              "1        238                en              The Godfather   \n",
              "2        278                en   The Shawshank Redemption   \n",
              "3        240                en      The Godfather Part II   \n",
              "4     667257                es           Cosas imposibles   \n",
              "...      ...               ...                        ...   \n",
              "9995   11375                en         Hollywood Homicide   \n",
              "9996  298614                fr  Une heure de tranquillité   \n",
              "9997   50357                en                  Apollo 18   \n",
              "9998   97795                en                     Emergo   \n",
              "9999   11822                de                Nekromantik   \n",
              "\n",
              "                                               overview  popularity  \\\n",
              "0     Yeon-du asks her best friend Bora to collect a...     170.540   \n",
              "1     Spanning the years 1945 to 1955, a chronicle o...      86.518   \n",
              "2     Framed in the 1940s for the double murder of h...      84.681   \n",
              "3     In the continuing saga of the Corleone crime f...      44.957   \n",
              "4     Matilde is a woman who, after the death of her...      32.859   \n",
              "...                                                 ...         ...   \n",
              "9995  Joe Gavilan and his new partner K. C. Calden, ...       9.532   \n",
              "9996  Michel, who's crazy about jazz, has just found...       5.835   \n",
              "9997  Officially, Apollo 17 was the last manned miss...      51.415   \n",
              "9998  A team of parapsychologists sets out to invest...       6.226   \n",
              "9999  A street sweeper who cleans up after grisly ac...       9.630   \n",
              "\n",
              "     release_date                     title  vote_average  vote_count  \n",
              "0      2022-10-06         20th Century Girl           8.7         290  \n",
              "1      1972-03-14             The Godfather           8.7       16988  \n",
              "2      1994-09-23  The Shawshank Redemption           8.7       22748  \n",
              "3      1974-12-20     The Godfather Part II           8.6       10293  \n",
              "4      2021-06-17         Impossible Things           8.6         299  \n",
              "...           ...                       ...           ...         ...  \n",
              "9995   2003-06-09        Hollywood Homicide           5.3         529  \n",
              "9996   2014-12-31            Do Not Disturb           5.3         304  \n",
              "9997   2011-07-20                 Apollo 18           5.3         839  \n",
              "9998   2011-10-11             Apartment 143           5.3         242  \n",
              "9999   1988-01-29               Nekromantik           5.3         202  \n",
              "\n",
              "[10000 rows x 9 columns]"
            ],
            "text/html": [
              "\n",
              "  <div id=\"df-f7629749-a7fd-4467-8045-305d62d98c69\">\n",
              "    <div class=\"colab-df-container\">\n",
              "      <div>\n",
              "<style scoped>\n",
              "    .dataframe tbody tr th:only-of-type {\n",
              "        vertical-align: middle;\n",
              "    }\n",
              "\n",
              "    .dataframe tbody tr th {\n",
              "        vertical-align: top;\n",
              "    }\n",
              "\n",
              "    .dataframe thead th {\n",
              "        text-align: right;\n",
              "    }\n",
              "</style>\n",
              "<table border=\"1\" class=\"dataframe\">\n",
              "  <thead>\n",
              "    <tr style=\"text-align: right;\">\n",
              "      <th></th>\n",
              "      <th>id</th>\n",
              "      <th>original_language</th>\n",
              "      <th>original_title</th>\n",
              "      <th>overview</th>\n",
              "      <th>popularity</th>\n",
              "      <th>release_date</th>\n",
              "      <th>title</th>\n",
              "      <th>vote_average</th>\n",
              "      <th>vote_count</th>\n",
              "    </tr>\n",
              "  </thead>\n",
              "  <tbody>\n",
              "    <tr>\n",
              "      <th>0</th>\n",
              "      <td>851644</td>\n",
              "      <td>ko</td>\n",
              "      <td>20세기 소녀</td>\n",
              "      <td>Yeon-du asks her best friend Bora to collect a...</td>\n",
              "      <td>170.540</td>\n",
              "      <td>2022-10-06</td>\n",
              "      <td>20th Century Girl</td>\n",
              "      <td>8.7</td>\n",
              "      <td>290</td>\n",
              "    </tr>\n",
              "    <tr>\n",
              "      <th>1</th>\n",
              "      <td>238</td>\n",
              "      <td>en</td>\n",
              "      <td>The Godfather</td>\n",
              "      <td>Spanning the years 1945 to 1955, a chronicle o...</td>\n",
              "      <td>86.518</td>\n",
              "      <td>1972-03-14</td>\n",
              "      <td>The Godfather</td>\n",
              "      <td>8.7</td>\n",
              "      <td>16988</td>\n",
              "    </tr>\n",
              "    <tr>\n",
              "      <th>2</th>\n",
              "      <td>278</td>\n",
              "      <td>en</td>\n",
              "      <td>The Shawshank Redemption</td>\n",
              "      <td>Framed in the 1940s for the double murder of h...</td>\n",
              "      <td>84.681</td>\n",
              "      <td>1994-09-23</td>\n",
              "      <td>The Shawshank Redemption</td>\n",
              "      <td>8.7</td>\n",
              "      <td>22748</td>\n",
              "    </tr>\n",
              "    <tr>\n",
              "      <th>3</th>\n",
              "      <td>240</td>\n",
              "      <td>en</td>\n",
              "      <td>The Godfather Part II</td>\n",
              "      <td>In the continuing saga of the Corleone crime f...</td>\n",
              "      <td>44.957</td>\n",
              "      <td>1974-12-20</td>\n",
              "      <td>The Godfather Part II</td>\n",
              "      <td>8.6</td>\n",
              "      <td>10293</td>\n",
              "    </tr>\n",
              "    <tr>\n",
              "      <th>4</th>\n",
              "      <td>667257</td>\n",
              "      <td>es</td>\n",
              "      <td>Cosas imposibles</td>\n",
              "      <td>Matilde is a woman who, after the death of her...</td>\n",
              "      <td>32.859</td>\n",
              "      <td>2021-06-17</td>\n",
              "      <td>Impossible Things</td>\n",
              "      <td>8.6</td>\n",
              "      <td>299</td>\n",
              "    </tr>\n",
              "    <tr>\n",
              "      <th>...</th>\n",
              "      <td>...</td>\n",
              "      <td>...</td>\n",
              "      <td>...</td>\n",
              "      <td>...</td>\n",
              "      <td>...</td>\n",
              "      <td>...</td>\n",
              "      <td>...</td>\n",
              "      <td>...</td>\n",
              "      <td>...</td>\n",
              "    </tr>\n",
              "    <tr>\n",
              "      <th>9995</th>\n",
              "      <td>11375</td>\n",
              "      <td>en</td>\n",
              "      <td>Hollywood Homicide</td>\n",
              "      <td>Joe Gavilan and his new partner K. C. Calden, ...</td>\n",
              "      <td>9.532</td>\n",
              "      <td>2003-06-09</td>\n",
              "      <td>Hollywood Homicide</td>\n",
              "      <td>5.3</td>\n",
              "      <td>529</td>\n",
              "    </tr>\n",
              "    <tr>\n",
              "      <th>9996</th>\n",
              "      <td>298614</td>\n",
              "      <td>fr</td>\n",
              "      <td>Une heure de tranquillité</td>\n",
              "      <td>Michel, who's crazy about jazz, has just found...</td>\n",
              "      <td>5.835</td>\n",
              "      <td>2014-12-31</td>\n",
              "      <td>Do Not Disturb</td>\n",
              "      <td>5.3</td>\n",
              "      <td>304</td>\n",
              "    </tr>\n",
              "    <tr>\n",
              "      <th>9997</th>\n",
              "      <td>50357</td>\n",
              "      <td>en</td>\n",
              "      <td>Apollo 18</td>\n",
              "      <td>Officially, Apollo 17 was the last manned miss...</td>\n",
              "      <td>51.415</td>\n",
              "      <td>2011-07-20</td>\n",
              "      <td>Apollo 18</td>\n",
              "      <td>5.3</td>\n",
              "      <td>839</td>\n",
              "    </tr>\n",
              "    <tr>\n",
              "      <th>9998</th>\n",
              "      <td>97795</td>\n",
              "      <td>en</td>\n",
              "      <td>Emergo</td>\n",
              "      <td>A team of parapsychologists sets out to invest...</td>\n",
              "      <td>6.226</td>\n",
              "      <td>2011-10-11</td>\n",
              "      <td>Apartment 143</td>\n",
              "      <td>5.3</td>\n",
              "      <td>242</td>\n",
              "    </tr>\n",
              "    <tr>\n",
              "      <th>9999</th>\n",
              "      <td>11822</td>\n",
              "      <td>de</td>\n",
              "      <td>Nekromantik</td>\n",
              "      <td>A street sweeper who cleans up after grisly ac...</td>\n",
              "      <td>9.630</td>\n",
              "      <td>1988-01-29</td>\n",
              "      <td>Nekromantik</td>\n",
              "      <td>5.3</td>\n",
              "      <td>202</td>\n",
              "    </tr>\n",
              "  </tbody>\n",
              "</table>\n",
              "<p>10000 rows × 9 columns</p>\n",
              "</div>\n",
              "      <button class=\"colab-df-convert\" onclick=\"convertToInteractive('df-f7629749-a7fd-4467-8045-305d62d98c69')\"\n",
              "              title=\"Convert this dataframe to an interactive table.\"\n",
              "              style=\"display:none;\">\n",
              "        \n",
              "  <svg xmlns=\"http://www.w3.org/2000/svg\" height=\"24px\"viewBox=\"0 0 24 24\"\n",
              "       width=\"24px\">\n",
              "    <path d=\"M0 0h24v24H0V0z\" fill=\"none\"/>\n",
              "    <path d=\"M18.56 5.44l.94 2.06.94-2.06 2.06-.94-2.06-.94-.94-2.06-.94 2.06-2.06.94zm-11 1L8.5 8.5l.94-2.06 2.06-.94-2.06-.94L8.5 2.5l-.94 2.06-2.06.94zm10 10l.94 2.06.94-2.06 2.06-.94-2.06-.94-.94-2.06-.94 2.06-2.06.94z\"/><path d=\"M17.41 7.96l-1.37-1.37c-.4-.4-.92-.59-1.43-.59-.52 0-1.04.2-1.43.59L10.3 9.45l-7.72 7.72c-.78.78-.78 2.05 0 2.83L4 21.41c.39.39.9.59 1.41.59.51 0 1.02-.2 1.41-.59l7.78-7.78 2.81-2.81c.8-.78.8-2.07 0-2.86zM5.41 20L4 18.59l7.72-7.72 1.47 1.35L5.41 20z\"/>\n",
              "  </svg>\n",
              "      </button>\n",
              "      \n",
              "  <style>\n",
              "    .colab-df-container {\n",
              "      display:flex;\n",
              "      flex-wrap:wrap;\n",
              "      gap: 12px;\n",
              "    }\n",
              "\n",
              "    .colab-df-convert {\n",
              "      background-color: #E8F0FE;\n",
              "      border: none;\n",
              "      border-radius: 50%;\n",
              "      cursor: pointer;\n",
              "      display: none;\n",
              "      fill: #1967D2;\n",
              "      height: 32px;\n",
              "      padding: 0 0 0 0;\n",
              "      width: 32px;\n",
              "    }\n",
              "\n",
              "    .colab-df-convert:hover {\n",
              "      background-color: #E2EBFA;\n",
              "      box-shadow: 0px 1px 2px rgba(60, 64, 67, 0.3), 0px 1px 3px 1px rgba(60, 64, 67, 0.15);\n",
              "      fill: #174EA6;\n",
              "    }\n",
              "\n",
              "    [theme=dark] .colab-df-convert {\n",
              "      background-color: #3B4455;\n",
              "      fill: #D2E3FC;\n",
              "    }\n",
              "\n",
              "    [theme=dark] .colab-df-convert:hover {\n",
              "      background-color: #434B5C;\n",
              "      box-shadow: 0px 1px 3px 1px rgba(0, 0, 0, 0.15);\n",
              "      filter: drop-shadow(0px 1px 2px rgba(0, 0, 0, 0.3));\n",
              "      fill: #FFFFFF;\n",
              "    }\n",
              "  </style>\n",
              "\n",
              "      <script>\n",
              "        const buttonEl =\n",
              "          document.querySelector('#df-f7629749-a7fd-4467-8045-305d62d98c69 button.colab-df-convert');\n",
              "        buttonEl.style.display =\n",
              "          google.colab.kernel.accessAllowed ? 'block' : 'none';\n",
              "\n",
              "        async function convertToInteractive(key) {\n",
              "          const element = document.querySelector('#df-f7629749-a7fd-4467-8045-305d62d98c69');\n",
              "          const dataTable =\n",
              "            await google.colab.kernel.invokeFunction('convertToInteractive',\n",
              "                                                     [key], {});\n",
              "          if (!dataTable) return;\n",
              "\n",
              "          const docLinkHtml = 'Like what you see? Visit the ' +\n",
              "            '<a target=\"_blank\" href=https://colab.research.google.com/notebooks/data_table.ipynb>data table notebook</a>'\n",
              "            + ' to learn more about interactive tables.';\n",
              "          element.innerHTML = '';\n",
              "          dataTable['output_type'] = 'display_data';\n",
              "          await google.colab.output.renderOutput(dataTable, element);\n",
              "          const docLink = document.createElement('div');\n",
              "          docLink.innerHTML = docLinkHtml;\n",
              "          element.appendChild(docLink);\n",
              "        }\n",
              "      </script>\n",
              "    </div>\n",
              "  </div>\n",
              "  "
            ]
          },
          "metadata": {},
          "execution_count": 42
        }
      ]
    },
    {
      "cell_type": "code",
      "source": [
        "#mostrando quantidade de linhas e colunas no Dataframe\n",
        "df.shape"
      ],
      "metadata": {
        "colab": {
          "base_uri": "https://localhost:8080/"
        },
        "id": "bC8egMTYGhc9",
        "outputId": "5a0d4797-cd9a-4be3-b7ba-8b3882298bdf"
      },
      "execution_count": 43,
      "outputs": [
        {
          "output_type": "execute_result",
          "data": {
            "text/plain": [
              "(10000, 9)"
            ]
          },
          "metadata": {},
          "execution_count": 43
        }
      ]
    },
    {
      "cell_type": "code",
      "source": [
        "#visualizar os nomes das colunas\n",
        "df.columns"
      ],
      "metadata": {
        "colab": {
          "base_uri": "https://localhost:8080/"
        },
        "id": "yOBhMYcQJ8PH",
        "outputId": "0f352fad-f60c-4d56-ada5-88c3061302df"
      },
      "execution_count": 44,
      "outputs": [
        {
          "output_type": "execute_result",
          "data": {
            "text/plain": [
              "Index(['id', 'original_language', 'original_title', 'overview', 'popularity',\n",
              "       'release_date', 'title', 'vote_average', 'vote_count'],\n",
              "      dtype='object')"
            ]
          },
          "metadata": {},
          "execution_count": 44
        }
      ]
    },
    {
      "cell_type": "code",
      "source": [
        "#Visualizar a informações sobre as colunas do Dataframe\n",
        "df.info()"
      ],
      "metadata": {
        "colab": {
          "base_uri": "https://localhost:8080/"
        },
        "id": "BGUswoBelK6W",
        "outputId": "074382a7-5e36-4766-c8e9-37d86681711a"
      },
      "execution_count": 45,
      "outputs": [
        {
          "output_type": "stream",
          "name": "stdout",
          "text": [
            "<class 'pandas.core.frame.DataFrame'>\n",
            "RangeIndex: 10000 entries, 0 to 9999\n",
            "Data columns (total 9 columns):\n",
            " #   Column             Non-Null Count  Dtype  \n",
            "---  ------             --------------  -----  \n",
            " 0   id                 10000 non-null  int64  \n",
            " 1   original_language  10000 non-null  object \n",
            " 2   original_title     10000 non-null  object \n",
            " 3   overview           9994 non-null   object \n",
            " 4   popularity         10000 non-null  float64\n",
            " 5   release_date       10000 non-null  object \n",
            " 6   title              10000 non-null  object \n",
            " 7   vote_average       10000 non-null  float64\n",
            " 8   vote_count         10000 non-null  int64  \n",
            "dtypes: float64(2), int64(2), object(5)\n",
            "memory usage: 703.2+ KB\n"
          ]
        }
      ]
    },
    {
      "cell_type": "markdown",
      "source": [
        "# Pré-processamento"
      ],
      "metadata": {
        "id": "m_OLUBzSmHqC"
      }
    },
    {
      "cell_type": "markdown",
      "source": [
        "###Fazendo a filtragem das colunas para uma cópia do DF e removendo a coluna ID pois estava confusa com numeros aleatórios."
      ],
      "metadata": {
        "id": "8P2ZWsnwYSg_"
      }
    },
    {
      "cell_type": "code",
      "source": [
        "dfcopia = df.filter(items=['original_language', 'original_title',\t'overview',\t'popularity',\t'release_date',\t'title',\t'vote_average',\t'vote_count'])"
      ],
      "metadata": {
        "id": "-x2_3widBXFx"
      },
      "execution_count": 46,
      "outputs": []
    },
    {
      "cell_type": "markdown",
      "source": [
        "###Renomeando as colunas para o Português para ficar mais fácil para entender do que se trata cada coluna."
      ],
      "metadata": {
        "id": "7plegEB1Zb-3"
      }
    },
    {
      "cell_type": "code",
      "source": [
        "dfcopia.rename(columns = { 'original_language': 'Idioma_Original', \n",
        "                          'original_title' : 'Título_Original',\n",
        "                          'popularity' : 'Qtd_Visualizações',\t\n",
        "                          'release_date' : 'Data_Lançamento',\n",
        "                          'title': 'Nome_Filme',\n",
        "                          'overview': 'Sinopse',\n",
        "                          'vote_average':'Nota do Público',\n",
        "                          'vote_count': 'Qtd de votos'},\n",
        "  inplace = True)"
      ],
      "metadata": {
        "id": "WF1JL_NaH1bw"
      },
      "execution_count": 47,
      "outputs": []
    },
    {
      "cell_type": "markdown",
      "source": [
        "###Visualizando as informações do Dataframe para identificar quais colunas possuem valores nulos."
      ],
      "metadata": {
        "id": "wnTgi4UeZ-Ey"
      }
    },
    {
      "cell_type": "code",
      "source": [
        "#o comando info() já mostra quantos valores estão preenchidos por coluna\n",
        "dfcopia.info()"
      ],
      "metadata": {
        "colab": {
          "base_uri": "https://localhost:8080/"
        },
        "id": "s30_-VHVAvpJ",
        "outputId": "6060ecd5-9634-48c0-9951-2cd290cb05a1"
      },
      "execution_count": 48,
      "outputs": [
        {
          "output_type": "stream",
          "name": "stdout",
          "text": [
            "<class 'pandas.core.frame.DataFrame'>\n",
            "RangeIndex: 10000 entries, 0 to 9999\n",
            "Data columns (total 8 columns):\n",
            " #   Column             Non-Null Count  Dtype  \n",
            "---  ------             --------------  -----  \n",
            " 0   Idioma_Original    10000 non-null  object \n",
            " 1   Título_Original    10000 non-null  object \n",
            " 2   Sinopse            9994 non-null   object \n",
            " 3   Qtd_Visualizações  10000 non-null  float64\n",
            " 4   Data_Lançamento    10000 non-null  object \n",
            " 5   Nome_Filme         10000 non-null  object \n",
            " 6   Nota do Público    10000 non-null  float64\n",
            " 7   Qtd de votos       10000 non-null  int64  \n",
            "dtypes: float64(2), int64(1), object(5)\n",
            "memory usage: 625.1+ KB\n"
          ]
        }
      ]
    },
    {
      "cell_type": "markdown",
      "source": [
        "###Visualizando a coluna \"Sinopse\" que possui valores Nulos."
      ],
      "metadata": {
        "id": "qQpKr_luaw6W"
      }
    },
    {
      "cell_type": "code",
      "source": [
        "#Visializando a quantidade de valores nulos na coluna Sinopse\n",
        "dfcopia['Sinopse'].isnull().sum()"
      ],
      "metadata": {
        "colab": {
          "base_uri": "https://localhost:8080/"
        },
        "id": "JnSKrz7TnY2k",
        "outputId": "7d7e02d4-0436-484e-b3cf-15ba9e53b168"
      },
      "execution_count": 49,
      "outputs": [
        {
          "output_type": "execute_result",
          "data": {
            "text/plain": [
              "6"
            ]
          },
          "metadata": {},
          "execution_count": 49
        }
      ]
    },
    {
      "cell_type": "code",
      "source": [
        "#Mostrando as valores nulos na coluna\n",
        "dfcopia.loc[dfcopia['Sinopse'].isnull()]"
      ],
      "metadata": {
        "colab": {
          "base_uri": "https://localhost:8080/",
          "height": 238
        },
        "id": "Hn8nlGhMNzji",
        "outputId": "4472a540-858b-48d0-e494-81dc1a50c37c"
      },
      "execution_count": 50,
      "outputs": [
        {
          "output_type": "execute_result",
          "data": {
            "text/plain": [
              "     Idioma_Original           Título_Original Sinopse  Qtd_Visualizações  \\\n",
              "3957              en                   Step Up     NaN             21.672   \n",
              "7393              fr  La Vérité si je mens ! 2     NaN              6.522   \n",
              "8341              fr                    Tanguy     NaN              7.111   \n",
              "8833              en   Amore, bugie e calcetto     NaN              6.172   \n",
              "9609              fr                 Incognito     NaN              7.490   \n",
              "9993              it          Colpi di fulmine     NaN              5.767   \n",
              "\n",
              "     Data_Lançamento               Nome_Filme  Nota do Público  Qtd de votos  \n",
              "3957      2006-08-11                  Step Up              6.9          3342  \n",
              "7393      2001-02-07    Would I Lie to You? 2              6.2           336  \n",
              "8341      2001-11-21                   Tanguy              5.9           398  \n",
              "8833      2008-04-04  Amore, bugie e calcetto              5.8           203  \n",
              "9609      2009-04-28                Incognito              5.5           216  \n",
              "9993      2012-12-13         Lightning Strike              5.3           217  "
            ],
            "text/html": [
              "\n",
              "  <div id=\"df-0665310e-deb6-49d7-85a7-c8b148f12706\">\n",
              "    <div class=\"colab-df-container\">\n",
              "      <div>\n",
              "<style scoped>\n",
              "    .dataframe tbody tr th:only-of-type {\n",
              "        vertical-align: middle;\n",
              "    }\n",
              "\n",
              "    .dataframe tbody tr th {\n",
              "        vertical-align: top;\n",
              "    }\n",
              "\n",
              "    .dataframe thead th {\n",
              "        text-align: right;\n",
              "    }\n",
              "</style>\n",
              "<table border=\"1\" class=\"dataframe\">\n",
              "  <thead>\n",
              "    <tr style=\"text-align: right;\">\n",
              "      <th></th>\n",
              "      <th>Idioma_Original</th>\n",
              "      <th>Título_Original</th>\n",
              "      <th>Sinopse</th>\n",
              "      <th>Qtd_Visualizações</th>\n",
              "      <th>Data_Lançamento</th>\n",
              "      <th>Nome_Filme</th>\n",
              "      <th>Nota do Público</th>\n",
              "      <th>Qtd de votos</th>\n",
              "    </tr>\n",
              "  </thead>\n",
              "  <tbody>\n",
              "    <tr>\n",
              "      <th>3957</th>\n",
              "      <td>en</td>\n",
              "      <td>Step Up</td>\n",
              "      <td>NaN</td>\n",
              "      <td>21.672</td>\n",
              "      <td>2006-08-11</td>\n",
              "      <td>Step Up</td>\n",
              "      <td>6.9</td>\n",
              "      <td>3342</td>\n",
              "    </tr>\n",
              "    <tr>\n",
              "      <th>7393</th>\n",
              "      <td>fr</td>\n",
              "      <td>La Vérité si je mens ! 2</td>\n",
              "      <td>NaN</td>\n",
              "      <td>6.522</td>\n",
              "      <td>2001-02-07</td>\n",
              "      <td>Would I Lie to You? 2</td>\n",
              "      <td>6.2</td>\n",
              "      <td>336</td>\n",
              "    </tr>\n",
              "    <tr>\n",
              "      <th>8341</th>\n",
              "      <td>fr</td>\n",
              "      <td>Tanguy</td>\n",
              "      <td>NaN</td>\n",
              "      <td>7.111</td>\n",
              "      <td>2001-11-21</td>\n",
              "      <td>Tanguy</td>\n",
              "      <td>5.9</td>\n",
              "      <td>398</td>\n",
              "    </tr>\n",
              "    <tr>\n",
              "      <th>8833</th>\n",
              "      <td>en</td>\n",
              "      <td>Amore, bugie e calcetto</td>\n",
              "      <td>NaN</td>\n",
              "      <td>6.172</td>\n",
              "      <td>2008-04-04</td>\n",
              "      <td>Amore, bugie e calcetto</td>\n",
              "      <td>5.8</td>\n",
              "      <td>203</td>\n",
              "    </tr>\n",
              "    <tr>\n",
              "      <th>9609</th>\n",
              "      <td>fr</td>\n",
              "      <td>Incognito</td>\n",
              "      <td>NaN</td>\n",
              "      <td>7.490</td>\n",
              "      <td>2009-04-28</td>\n",
              "      <td>Incognito</td>\n",
              "      <td>5.5</td>\n",
              "      <td>216</td>\n",
              "    </tr>\n",
              "    <tr>\n",
              "      <th>9993</th>\n",
              "      <td>it</td>\n",
              "      <td>Colpi di fulmine</td>\n",
              "      <td>NaN</td>\n",
              "      <td>5.767</td>\n",
              "      <td>2012-12-13</td>\n",
              "      <td>Lightning Strike</td>\n",
              "      <td>5.3</td>\n",
              "      <td>217</td>\n",
              "    </tr>\n",
              "  </tbody>\n",
              "</table>\n",
              "</div>\n",
              "      <button class=\"colab-df-convert\" onclick=\"convertToInteractive('df-0665310e-deb6-49d7-85a7-c8b148f12706')\"\n",
              "              title=\"Convert this dataframe to an interactive table.\"\n",
              "              style=\"display:none;\">\n",
              "        \n",
              "  <svg xmlns=\"http://www.w3.org/2000/svg\" height=\"24px\"viewBox=\"0 0 24 24\"\n",
              "       width=\"24px\">\n",
              "    <path d=\"M0 0h24v24H0V0z\" fill=\"none\"/>\n",
              "    <path d=\"M18.56 5.44l.94 2.06.94-2.06 2.06-.94-2.06-.94-.94-2.06-.94 2.06-2.06.94zm-11 1L8.5 8.5l.94-2.06 2.06-.94-2.06-.94L8.5 2.5l-.94 2.06-2.06.94zm10 10l.94 2.06.94-2.06 2.06-.94-2.06-.94-.94-2.06-.94 2.06-2.06.94z\"/><path d=\"M17.41 7.96l-1.37-1.37c-.4-.4-.92-.59-1.43-.59-.52 0-1.04.2-1.43.59L10.3 9.45l-7.72 7.72c-.78.78-.78 2.05 0 2.83L4 21.41c.39.39.9.59 1.41.59.51 0 1.02-.2 1.41-.59l7.78-7.78 2.81-2.81c.8-.78.8-2.07 0-2.86zM5.41 20L4 18.59l7.72-7.72 1.47 1.35L5.41 20z\"/>\n",
              "  </svg>\n",
              "      </button>\n",
              "      \n",
              "  <style>\n",
              "    .colab-df-container {\n",
              "      display:flex;\n",
              "      flex-wrap:wrap;\n",
              "      gap: 12px;\n",
              "    }\n",
              "\n",
              "    .colab-df-convert {\n",
              "      background-color: #E8F0FE;\n",
              "      border: none;\n",
              "      border-radius: 50%;\n",
              "      cursor: pointer;\n",
              "      display: none;\n",
              "      fill: #1967D2;\n",
              "      height: 32px;\n",
              "      padding: 0 0 0 0;\n",
              "      width: 32px;\n",
              "    }\n",
              "\n",
              "    .colab-df-convert:hover {\n",
              "      background-color: #E2EBFA;\n",
              "      box-shadow: 0px 1px 2px rgba(60, 64, 67, 0.3), 0px 1px 3px 1px rgba(60, 64, 67, 0.15);\n",
              "      fill: #174EA6;\n",
              "    }\n",
              "\n",
              "    [theme=dark] .colab-df-convert {\n",
              "      background-color: #3B4455;\n",
              "      fill: #D2E3FC;\n",
              "    }\n",
              "\n",
              "    [theme=dark] .colab-df-convert:hover {\n",
              "      background-color: #434B5C;\n",
              "      box-shadow: 0px 1px 3px 1px rgba(0, 0, 0, 0.15);\n",
              "      filter: drop-shadow(0px 1px 2px rgba(0, 0, 0, 0.3));\n",
              "      fill: #FFFFFF;\n",
              "    }\n",
              "  </style>\n",
              "\n",
              "      <script>\n",
              "        const buttonEl =\n",
              "          document.querySelector('#df-0665310e-deb6-49d7-85a7-c8b148f12706 button.colab-df-convert');\n",
              "        buttonEl.style.display =\n",
              "          google.colab.kernel.accessAllowed ? 'block' : 'none';\n",
              "\n",
              "        async function convertToInteractive(key) {\n",
              "          const element = document.querySelector('#df-0665310e-deb6-49d7-85a7-c8b148f12706');\n",
              "          const dataTable =\n",
              "            await google.colab.kernel.invokeFunction('convertToInteractive',\n",
              "                                                     [key], {});\n",
              "          if (!dataTable) return;\n",
              "\n",
              "          const docLinkHtml = 'Like what you see? Visit the ' +\n",
              "            '<a target=\"_blank\" href=https://colab.research.google.com/notebooks/data_table.ipynb>data table notebook</a>'\n",
              "            + ' to learn more about interactive tables.';\n",
              "          element.innerHTML = '';\n",
              "          dataTable['output_type'] = 'display_data';\n",
              "          await google.colab.output.renderOutput(dataTable, element);\n",
              "          const docLink = document.createElement('div');\n",
              "          docLink.innerHTML = docLinkHtml;\n",
              "          element.appendChild(docLink);\n",
              "        }\n",
              "      </script>\n",
              "    </div>\n",
              "  </div>\n",
              "  "
            ]
          },
          "metadata": {},
          "execution_count": 50
        }
      ]
    },
    {
      "cell_type": "markdown",
      "source": [
        "###Tratando valores nulos.\n",
        "\n",
        "Para tratar valores nulos existem alguma técnicas que podem ser utilizadas."
      ],
      "metadata": {
        "id": "Sf_Ji5_nbJmQ"
      }
    },
    {
      "cell_type": "code",
      "source": [
        "#apaga todas as linhas que tenham algum valor nulo no dataframe\n",
        "#o parâmetro inplace altera no arquivo original\n",
        "\n",
        "dfcopia.dropna(inplace=True)"
      ],
      "metadata": {
        "id": "Fi4ZIdzmqcg7"
      },
      "execution_count": 51,
      "outputs": []
    },
    {
      "cell_type": "code",
      "source": [
        "#apaga as linhas da(s) coluna(s) especificada(s) no subset que tenham algum valor nulo\n",
        "dfcopia.dropna(subset=['Sinopse'],inplace=True)"
      ],
      "metadata": {
        "id": "HJNuTIeZrcg0"
      },
      "execution_count": 52,
      "outputs": []
    },
    {
      "cell_type": "code",
      "source": [
        "#substitui os valores nulos por um novo valor\n",
        "dfcopia.Sinopse = dfcopia.Sinopse.fillna(\"NAO_DEFINIDO\")"
      ],
      "metadata": {
        "id": "wXlscl8LOEJo"
      },
      "execution_count": 53,
      "outputs": []
    },
    {
      "cell_type": "markdown",
      "source": [
        "**Dependendo da quantidade de valores ausentes no dataframe uma dessas tecnicas podem ser aplicadas.**\n",
        "\n",
        "* Se os dados ausentes estão em pequeno número,ocorrem aleatoriamente, e a ausência não carrega significado, é melhor excluir a linha. No caso da coluna, se ainda for possível analisar alguma parte dela, use-a, como é o caso aqui. Mas para algumas situações, o ideal é excluir a coluna.\n",
        "\n",
        "* Preencher valores ausentes permite que você mantenha dados existentes em outras células. "
      ],
      "metadata": {
        "id": "Bt2UAsnjsSZv"
      }
    },
    {
      "cell_type": "code",
      "source": [
        "dfcopia.info()"
      ],
      "metadata": {
        "colab": {
          "base_uri": "https://localhost:8080/"
        },
        "id": "1OLoeRzPOSWN",
        "outputId": "2f6182fe-3db2-4379-8380-75a54b898b29"
      },
      "execution_count": 54,
      "outputs": [
        {
          "output_type": "stream",
          "name": "stdout",
          "text": [
            "<class 'pandas.core.frame.DataFrame'>\n",
            "Int64Index: 9994 entries, 0 to 9999\n",
            "Data columns (total 8 columns):\n",
            " #   Column             Non-Null Count  Dtype  \n",
            "---  ------             --------------  -----  \n",
            " 0   Idioma_Original    9994 non-null   object \n",
            " 1   Título_Original    9994 non-null   object \n",
            " 2   Sinopse            9994 non-null   object \n",
            " 3   Qtd_Visualizações  9994 non-null   float64\n",
            " 4   Data_Lançamento    9994 non-null   object \n",
            " 5   Nome_Filme         9994 non-null   object \n",
            " 6   Nota do Público    9994 non-null   float64\n",
            " 7   Qtd de votos       9994 non-null   int64  \n",
            "dtypes: float64(2), int64(1), object(5)\n",
            "memory usage: 702.7+ KB\n"
          ]
        }
      ]
    },
    {
      "cell_type": "markdown",
      "source": [
        "### Visualizando Informações no Dataframe"
      ],
      "metadata": {
        "id": "Z9-yfnNxt2ME"
      }
    },
    {
      "cell_type": "code",
      "source": [
        "#o atributo .loc seleciona as linhas conforme o parâmetro passado\n",
        "dfcopia = dfcopia.loc[dfcopia['Idioma_Original'] == 'en']"
      ],
      "metadata": {
        "id": "fInafUFbtY3P"
      },
      "execution_count": 55,
      "outputs": []
    },
    {
      "cell_type": "code",
      "source": [
        "dfcopia"
      ],
      "metadata": {
        "colab": {
          "base_uri": "https://localhost:8080/",
          "height": 659
        },
        "id": "7I_bC9sPM_Qm",
        "outputId": "f2129466-31b6-4bfc-85b2-3ee54caaea84"
      },
      "execution_count": 56,
      "outputs": [
        {
          "output_type": "execute_result",
          "data": {
            "text/plain": [
              "     Idioma_Original           Título_Original  \\\n",
              "1                 en             The Godfather   \n",
              "2                 en  The Shawshank Redemption   \n",
              "3                 en     The Godfather Part II   \n",
              "6                 en          Schindler's List   \n",
              "10                en              12 Angry Men   \n",
              "...              ...                       ...   \n",
              "9992              en           The Head Hunter   \n",
              "9994              en                   10 x 10   \n",
              "9995              en        Hollywood Homicide   \n",
              "9997              en                 Apollo 18   \n",
              "9998              en                    Emergo   \n",
              "\n",
              "                                                Sinopse  Qtd_Visualizações  \\\n",
              "1     Spanning the years 1945 to 1955, a chronicle o...             86.518   \n",
              "2     Framed in the 1940s for the double murder of h...             84.681   \n",
              "3     In the continuing saga of the Corleone crime f...             44.957   \n",
              "6     The true story of how businessman Oskar Schind...             52.121   \n",
              "10    The defense and the prosecution have rested an...             33.678   \n",
              "...                                                 ...                ...   \n",
              "9992  On the outskirts of a kingdom, a quiet but fie...             11.145   \n",
              "9994  Lewis is an outwardly ordinary guy, but in rea...             14.890   \n",
              "9995  Joe Gavilan and his new partner K. C. Calden, ...              9.532   \n",
              "9997  Officially, Apollo 17 was the last manned miss...             51.415   \n",
              "9998  A team of parapsychologists sets out to invest...              6.226   \n",
              "\n",
              "     Data_Lançamento                Nome_Filme  Nota do Público  Qtd de votos  \n",
              "1         1972-03-14             The Godfather              8.7         16988  \n",
              "2         1994-09-23  The Shawshank Redemption              8.7         22748  \n",
              "3         1974-12-20     The Godfather Part II              8.6         10293  \n",
              "6         1993-12-15          Schindler's List              8.6         13486  \n",
              "10        1957-04-10              12 Angry Men              8.5          6826  \n",
              "...              ...                       ...              ...           ...  \n",
              "9992      2019-04-05           The Head Hunter              5.3           238  \n",
              "9994      2018-04-13                     10x10              5.3           464  \n",
              "9995      2003-06-09        Hollywood Homicide              5.3           529  \n",
              "9997      2011-07-20                 Apollo 18              5.3           839  \n",
              "9998      2011-10-11             Apartment 143              5.3           242  \n",
              "\n",
              "[7734 rows x 8 columns]"
            ],
            "text/html": [
              "\n",
              "  <div id=\"df-d4de5648-c2f5-41c3-a5a9-2dadd681255a\">\n",
              "    <div class=\"colab-df-container\">\n",
              "      <div>\n",
              "<style scoped>\n",
              "    .dataframe tbody tr th:only-of-type {\n",
              "        vertical-align: middle;\n",
              "    }\n",
              "\n",
              "    .dataframe tbody tr th {\n",
              "        vertical-align: top;\n",
              "    }\n",
              "\n",
              "    .dataframe thead th {\n",
              "        text-align: right;\n",
              "    }\n",
              "</style>\n",
              "<table border=\"1\" class=\"dataframe\">\n",
              "  <thead>\n",
              "    <tr style=\"text-align: right;\">\n",
              "      <th></th>\n",
              "      <th>Idioma_Original</th>\n",
              "      <th>Título_Original</th>\n",
              "      <th>Sinopse</th>\n",
              "      <th>Qtd_Visualizações</th>\n",
              "      <th>Data_Lançamento</th>\n",
              "      <th>Nome_Filme</th>\n",
              "      <th>Nota do Público</th>\n",
              "      <th>Qtd de votos</th>\n",
              "    </tr>\n",
              "  </thead>\n",
              "  <tbody>\n",
              "    <tr>\n",
              "      <th>1</th>\n",
              "      <td>en</td>\n",
              "      <td>The Godfather</td>\n",
              "      <td>Spanning the years 1945 to 1955, a chronicle o...</td>\n",
              "      <td>86.518</td>\n",
              "      <td>1972-03-14</td>\n",
              "      <td>The Godfather</td>\n",
              "      <td>8.7</td>\n",
              "      <td>16988</td>\n",
              "    </tr>\n",
              "    <tr>\n",
              "      <th>2</th>\n",
              "      <td>en</td>\n",
              "      <td>The Shawshank Redemption</td>\n",
              "      <td>Framed in the 1940s for the double murder of h...</td>\n",
              "      <td>84.681</td>\n",
              "      <td>1994-09-23</td>\n",
              "      <td>The Shawshank Redemption</td>\n",
              "      <td>8.7</td>\n",
              "      <td>22748</td>\n",
              "    </tr>\n",
              "    <tr>\n",
              "      <th>3</th>\n",
              "      <td>en</td>\n",
              "      <td>The Godfather Part II</td>\n",
              "      <td>In the continuing saga of the Corleone crime f...</td>\n",
              "      <td>44.957</td>\n",
              "      <td>1974-12-20</td>\n",
              "      <td>The Godfather Part II</td>\n",
              "      <td>8.6</td>\n",
              "      <td>10293</td>\n",
              "    </tr>\n",
              "    <tr>\n",
              "      <th>6</th>\n",
              "      <td>en</td>\n",
              "      <td>Schindler's List</td>\n",
              "      <td>The true story of how businessman Oskar Schind...</td>\n",
              "      <td>52.121</td>\n",
              "      <td>1993-12-15</td>\n",
              "      <td>Schindler's List</td>\n",
              "      <td>8.6</td>\n",
              "      <td>13486</td>\n",
              "    </tr>\n",
              "    <tr>\n",
              "      <th>10</th>\n",
              "      <td>en</td>\n",
              "      <td>12 Angry Men</td>\n",
              "      <td>The defense and the prosecution have rested an...</td>\n",
              "      <td>33.678</td>\n",
              "      <td>1957-04-10</td>\n",
              "      <td>12 Angry Men</td>\n",
              "      <td>8.5</td>\n",
              "      <td>6826</td>\n",
              "    </tr>\n",
              "    <tr>\n",
              "      <th>...</th>\n",
              "      <td>...</td>\n",
              "      <td>...</td>\n",
              "      <td>...</td>\n",
              "      <td>...</td>\n",
              "      <td>...</td>\n",
              "      <td>...</td>\n",
              "      <td>...</td>\n",
              "      <td>...</td>\n",
              "    </tr>\n",
              "    <tr>\n",
              "      <th>9992</th>\n",
              "      <td>en</td>\n",
              "      <td>The Head Hunter</td>\n",
              "      <td>On the outskirts of a kingdom, a quiet but fie...</td>\n",
              "      <td>11.145</td>\n",
              "      <td>2019-04-05</td>\n",
              "      <td>The Head Hunter</td>\n",
              "      <td>5.3</td>\n",
              "      <td>238</td>\n",
              "    </tr>\n",
              "    <tr>\n",
              "      <th>9994</th>\n",
              "      <td>en</td>\n",
              "      <td>10 x 10</td>\n",
              "      <td>Lewis is an outwardly ordinary guy, but in rea...</td>\n",
              "      <td>14.890</td>\n",
              "      <td>2018-04-13</td>\n",
              "      <td>10x10</td>\n",
              "      <td>5.3</td>\n",
              "      <td>464</td>\n",
              "    </tr>\n",
              "    <tr>\n",
              "      <th>9995</th>\n",
              "      <td>en</td>\n",
              "      <td>Hollywood Homicide</td>\n",
              "      <td>Joe Gavilan and his new partner K. C. Calden, ...</td>\n",
              "      <td>9.532</td>\n",
              "      <td>2003-06-09</td>\n",
              "      <td>Hollywood Homicide</td>\n",
              "      <td>5.3</td>\n",
              "      <td>529</td>\n",
              "    </tr>\n",
              "    <tr>\n",
              "      <th>9997</th>\n",
              "      <td>en</td>\n",
              "      <td>Apollo 18</td>\n",
              "      <td>Officially, Apollo 17 was the last manned miss...</td>\n",
              "      <td>51.415</td>\n",
              "      <td>2011-07-20</td>\n",
              "      <td>Apollo 18</td>\n",
              "      <td>5.3</td>\n",
              "      <td>839</td>\n",
              "    </tr>\n",
              "    <tr>\n",
              "      <th>9998</th>\n",
              "      <td>en</td>\n",
              "      <td>Emergo</td>\n",
              "      <td>A team of parapsychologists sets out to invest...</td>\n",
              "      <td>6.226</td>\n",
              "      <td>2011-10-11</td>\n",
              "      <td>Apartment 143</td>\n",
              "      <td>5.3</td>\n",
              "      <td>242</td>\n",
              "    </tr>\n",
              "  </tbody>\n",
              "</table>\n",
              "<p>7734 rows × 8 columns</p>\n",
              "</div>\n",
              "      <button class=\"colab-df-convert\" onclick=\"convertToInteractive('df-d4de5648-c2f5-41c3-a5a9-2dadd681255a')\"\n",
              "              title=\"Convert this dataframe to an interactive table.\"\n",
              "              style=\"display:none;\">\n",
              "        \n",
              "  <svg xmlns=\"http://www.w3.org/2000/svg\" height=\"24px\"viewBox=\"0 0 24 24\"\n",
              "       width=\"24px\">\n",
              "    <path d=\"M0 0h24v24H0V0z\" fill=\"none\"/>\n",
              "    <path d=\"M18.56 5.44l.94 2.06.94-2.06 2.06-.94-2.06-.94-.94-2.06-.94 2.06-2.06.94zm-11 1L8.5 8.5l.94-2.06 2.06-.94-2.06-.94L8.5 2.5l-.94 2.06-2.06.94zm10 10l.94 2.06.94-2.06 2.06-.94-2.06-.94-.94-2.06-.94 2.06-2.06.94z\"/><path d=\"M17.41 7.96l-1.37-1.37c-.4-.4-.92-.59-1.43-.59-.52 0-1.04.2-1.43.59L10.3 9.45l-7.72 7.72c-.78.78-.78 2.05 0 2.83L4 21.41c.39.39.9.59 1.41.59.51 0 1.02-.2 1.41-.59l7.78-7.78 2.81-2.81c.8-.78.8-2.07 0-2.86zM5.41 20L4 18.59l7.72-7.72 1.47 1.35L5.41 20z\"/>\n",
              "  </svg>\n",
              "      </button>\n",
              "      \n",
              "  <style>\n",
              "    .colab-df-container {\n",
              "      display:flex;\n",
              "      flex-wrap:wrap;\n",
              "      gap: 12px;\n",
              "    }\n",
              "\n",
              "    .colab-df-convert {\n",
              "      background-color: #E8F0FE;\n",
              "      border: none;\n",
              "      border-radius: 50%;\n",
              "      cursor: pointer;\n",
              "      display: none;\n",
              "      fill: #1967D2;\n",
              "      height: 32px;\n",
              "      padding: 0 0 0 0;\n",
              "      width: 32px;\n",
              "    }\n",
              "\n",
              "    .colab-df-convert:hover {\n",
              "      background-color: #E2EBFA;\n",
              "      box-shadow: 0px 1px 2px rgba(60, 64, 67, 0.3), 0px 1px 3px 1px rgba(60, 64, 67, 0.15);\n",
              "      fill: #174EA6;\n",
              "    }\n",
              "\n",
              "    [theme=dark] .colab-df-convert {\n",
              "      background-color: #3B4455;\n",
              "      fill: #D2E3FC;\n",
              "    }\n",
              "\n",
              "    [theme=dark] .colab-df-convert:hover {\n",
              "      background-color: #434B5C;\n",
              "      box-shadow: 0px 1px 3px 1px rgba(0, 0, 0, 0.15);\n",
              "      filter: drop-shadow(0px 1px 2px rgba(0, 0, 0, 0.3));\n",
              "      fill: #FFFFFF;\n",
              "    }\n",
              "  </style>\n",
              "\n",
              "      <script>\n",
              "        const buttonEl =\n",
              "          document.querySelector('#df-d4de5648-c2f5-41c3-a5a9-2dadd681255a button.colab-df-convert');\n",
              "        buttonEl.style.display =\n",
              "          google.colab.kernel.accessAllowed ? 'block' : 'none';\n",
              "\n",
              "        async function convertToInteractive(key) {\n",
              "          const element = document.querySelector('#df-d4de5648-c2f5-41c3-a5a9-2dadd681255a');\n",
              "          const dataTable =\n",
              "            await google.colab.kernel.invokeFunction('convertToInteractive',\n",
              "                                                     [key], {});\n",
              "          if (!dataTable) return;\n",
              "\n",
              "          const docLinkHtml = 'Like what you see? Visit the ' +\n",
              "            '<a target=\"_blank\" href=https://colab.research.google.com/notebooks/data_table.ipynb>data table notebook</a>'\n",
              "            + ' to learn more about interactive tables.';\n",
              "          element.innerHTML = '';\n",
              "          dataTable['output_type'] = 'display_data';\n",
              "          await google.colab.output.renderOutput(dataTable, element);\n",
              "          const docLink = document.createElement('div');\n",
              "          docLink.innerHTML = docLinkHtml;\n",
              "          element.appendChild(docLink);\n",
              "        }\n",
              "      </script>\n",
              "    </div>\n",
              "  </div>\n",
              "  "
            ]
          },
          "metadata": {},
          "execution_count": 56
        }
      ]
    },
    {
      "cell_type": "code",
      "source": [
        "#retorna a quantidade de cada valor encontrado na coluna\n",
        "dfcopia['Idioma_Original'].value_counts()"
      ],
      "metadata": {
        "colab": {
          "base_uri": "https://localhost:8080/"
        },
        "id": "qrXoUmN0tqH-",
        "outputId": "c70e17d0-0007-4481-c084-0c8dc352d301"
      },
      "execution_count": 57,
      "outputs": [
        {
          "output_type": "execute_result",
          "data": {
            "text/plain": [
              "en    7734\n",
              "Name: Idioma_Original, dtype: int64"
            ]
          },
          "metadata": {},
          "execution_count": 57
        }
      ]
    },
    {
      "cell_type": "code",
      "source": [
        "#visualiza as duplicatas\n",
        "dfcopia[dfcopia.duplicated(keep=False)].sort_values('Nome_Filme')"
      ],
      "metadata": {
        "colab": {
          "base_uri": "https://localhost:8080/",
          "height": 49
        },
        "id": "VTPbU-mSul8n",
        "outputId": "1e0e8005-1671-44e6-c12e-9b6f6d9f1994"
      },
      "execution_count": 58,
      "outputs": [
        {
          "output_type": "execute_result",
          "data": {
            "text/plain": [
              "Empty DataFrame\n",
              "Columns: [Idioma_Original, Título_Original, Sinopse, Qtd_Visualizações, Data_Lançamento, Nome_Filme, Nota do Público, Qtd de votos]\n",
              "Index: []"
            ],
            "text/html": [
              "\n",
              "  <div id=\"df-b4aa6dff-db90-4d3f-a072-e4855993dbe7\">\n",
              "    <div class=\"colab-df-container\">\n",
              "      <div>\n",
              "<style scoped>\n",
              "    .dataframe tbody tr th:only-of-type {\n",
              "        vertical-align: middle;\n",
              "    }\n",
              "\n",
              "    .dataframe tbody tr th {\n",
              "        vertical-align: top;\n",
              "    }\n",
              "\n",
              "    .dataframe thead th {\n",
              "        text-align: right;\n",
              "    }\n",
              "</style>\n",
              "<table border=\"1\" class=\"dataframe\">\n",
              "  <thead>\n",
              "    <tr style=\"text-align: right;\">\n",
              "      <th></th>\n",
              "      <th>Idioma_Original</th>\n",
              "      <th>Título_Original</th>\n",
              "      <th>Sinopse</th>\n",
              "      <th>Qtd_Visualizações</th>\n",
              "      <th>Data_Lançamento</th>\n",
              "      <th>Nome_Filme</th>\n",
              "      <th>Nota do Público</th>\n",
              "      <th>Qtd de votos</th>\n",
              "    </tr>\n",
              "  </thead>\n",
              "  <tbody>\n",
              "  </tbody>\n",
              "</table>\n",
              "</div>\n",
              "      <button class=\"colab-df-convert\" onclick=\"convertToInteractive('df-b4aa6dff-db90-4d3f-a072-e4855993dbe7')\"\n",
              "              title=\"Convert this dataframe to an interactive table.\"\n",
              "              style=\"display:none;\">\n",
              "        \n",
              "  <svg xmlns=\"http://www.w3.org/2000/svg\" height=\"24px\"viewBox=\"0 0 24 24\"\n",
              "       width=\"24px\">\n",
              "    <path d=\"M0 0h24v24H0V0z\" fill=\"none\"/>\n",
              "    <path d=\"M18.56 5.44l.94 2.06.94-2.06 2.06-.94-2.06-.94-.94-2.06-.94 2.06-2.06.94zm-11 1L8.5 8.5l.94-2.06 2.06-.94-2.06-.94L8.5 2.5l-.94 2.06-2.06.94zm10 10l.94 2.06.94-2.06 2.06-.94-2.06-.94-.94-2.06-.94 2.06-2.06.94z\"/><path d=\"M17.41 7.96l-1.37-1.37c-.4-.4-.92-.59-1.43-.59-.52 0-1.04.2-1.43.59L10.3 9.45l-7.72 7.72c-.78.78-.78 2.05 0 2.83L4 21.41c.39.39.9.59 1.41.59.51 0 1.02-.2 1.41-.59l7.78-7.78 2.81-2.81c.8-.78.8-2.07 0-2.86zM5.41 20L4 18.59l7.72-7.72 1.47 1.35L5.41 20z\"/>\n",
              "  </svg>\n",
              "      </button>\n",
              "      \n",
              "  <style>\n",
              "    .colab-df-container {\n",
              "      display:flex;\n",
              "      flex-wrap:wrap;\n",
              "      gap: 12px;\n",
              "    }\n",
              "\n",
              "    .colab-df-convert {\n",
              "      background-color: #E8F0FE;\n",
              "      border: none;\n",
              "      border-radius: 50%;\n",
              "      cursor: pointer;\n",
              "      display: none;\n",
              "      fill: #1967D2;\n",
              "      height: 32px;\n",
              "      padding: 0 0 0 0;\n",
              "      width: 32px;\n",
              "    }\n",
              "\n",
              "    .colab-df-convert:hover {\n",
              "      background-color: #E2EBFA;\n",
              "      box-shadow: 0px 1px 2px rgba(60, 64, 67, 0.3), 0px 1px 3px 1px rgba(60, 64, 67, 0.15);\n",
              "      fill: #174EA6;\n",
              "    }\n",
              "\n",
              "    [theme=dark] .colab-df-convert {\n",
              "      background-color: #3B4455;\n",
              "      fill: #D2E3FC;\n",
              "    }\n",
              "\n",
              "    [theme=dark] .colab-df-convert:hover {\n",
              "      background-color: #434B5C;\n",
              "      box-shadow: 0px 1px 3px 1px rgba(0, 0, 0, 0.15);\n",
              "      filter: drop-shadow(0px 1px 2px rgba(0, 0, 0, 0.3));\n",
              "      fill: #FFFFFF;\n",
              "    }\n",
              "  </style>\n",
              "\n",
              "      <script>\n",
              "        const buttonEl =\n",
              "          document.querySelector('#df-b4aa6dff-db90-4d3f-a072-e4855993dbe7 button.colab-df-convert');\n",
              "        buttonEl.style.display =\n",
              "          google.colab.kernel.accessAllowed ? 'block' : 'none';\n",
              "\n",
              "        async function convertToInteractive(key) {\n",
              "          const element = document.querySelector('#df-b4aa6dff-db90-4d3f-a072-e4855993dbe7');\n",
              "          const dataTable =\n",
              "            await google.colab.kernel.invokeFunction('convertToInteractive',\n",
              "                                                     [key], {});\n",
              "          if (!dataTable) return;\n",
              "\n",
              "          const docLinkHtml = 'Like what you see? Visit the ' +\n",
              "            '<a target=\"_blank\" href=https://colab.research.google.com/notebooks/data_table.ipynb>data table notebook</a>'\n",
              "            + ' to learn more about interactive tables.';\n",
              "          element.innerHTML = '';\n",
              "          dataTable['output_type'] = 'display_data';\n",
              "          await google.colab.output.renderOutput(dataTable, element);\n",
              "          const docLink = document.createElement('div');\n",
              "          docLink.innerHTML = docLinkHtml;\n",
              "          element.appendChild(docLink);\n",
              "        }\n",
              "      </script>\n",
              "    </div>\n",
              "  </div>\n",
              "  "
            ]
          },
          "metadata": {},
          "execution_count": 58
        }
      ]
    },
    {
      "cell_type": "code",
      "source": [
        "#comando para substituir algum texto por outro valor\n",
        "dfcopia['Idioma_Original'].replace('asdfasdf','en')"
      ],
      "metadata": {
        "colab": {
          "base_uri": "https://localhost:8080/"
        },
        "id": "BlwHbvqDvR2f",
        "outputId": "a45b6eed-d9a4-44f7-cff2-dd2f7166f431"
      },
      "execution_count": 59,
      "outputs": [
        {
          "output_type": "execute_result",
          "data": {
            "text/plain": [
              "1       en\n",
              "2       en\n",
              "3       en\n",
              "6       en\n",
              "10      en\n",
              "        ..\n",
              "9992    en\n",
              "9994    en\n",
              "9995    en\n",
              "9997    en\n",
              "9998    en\n",
              "Name: Idioma_Original, Length: 7734, dtype: object"
            ]
          },
          "metadata": {},
          "execution_count": 59
        }
      ]
    },
    {
      "cell_type": "markdown",
      "source": [
        "# Análise dos dados"
      ],
      "metadata": {
        "id": "eBTFOSMfvk4a"
      }
    },
    {
      "cell_type": "markdown",
      "source": [
        "###Mostrando as informações sobre a quantidade de visualizações de cada filme, a quantidade de visualizações que cada filme teve e a nota do público para ver se estão bem distribuídas."
      ],
      "metadata": {
        "id": "McBFPZrYgGUa"
      }
    },
    {
      "cell_type": "code",
      "source": [
        "#Verificar informação sobre os dados numericos da coluna especificada - Comando describe()\n",
        "dfcopia['Qtd de votos'].describe()"
      ],
      "metadata": {
        "colab": {
          "base_uri": "https://localhost:8080/"
        },
        "id": "cw7dkPc-A5w1",
        "outputId": "9ed7eab2-b38b-4b09-dc09-33bf8da359e8"
      },
      "execution_count": 60,
      "outputs": [
        {
          "output_type": "execute_result",
          "data": {
            "text/plain": [
              "count     7734.000000\n",
              "mean      1872.827644\n",
              "std       2997.813635\n",
              "min        200.000000\n",
              "25%        360.000000\n",
              "50%        749.000000\n",
              "75%       1927.250000\n",
              "max      32679.000000\n",
              "Name: Qtd de votos, dtype: float64"
            ]
          },
          "metadata": {},
          "execution_count": 60
        }
      ]
    },
    {
      "cell_type": "markdown",
      "source": [
        "caso o valor de max esteja muito distante do quartil de 75% indica que os dados não estão balanceados"
      ],
      "metadata": {
        "id": "rFu5A7PgxEWd"
      }
    },
    {
      "cell_type": "code",
      "source": [
        "# O atributo .loc seleciona as linhas conforme o parâmetro passado \n",
        "#o comando value_counts() conta a quantidade de vezes que aqula informação se repetiu\n",
        "dfcopia['Qtd de votos'].loc[dfcopia['Qtd de votos']>1000].value_counts()"
      ],
      "metadata": {
        "colab": {
          "base_uri": "https://localhost:8080/"
        },
        "id": "BWcWr_NCwRY3",
        "outputId": "76c44627-4b08-44f4-8586-db19a9e3383a"
      },
      "execution_count": 61,
      "outputs": [
        {
          "output_type": "execute_result",
          "data": {
            "text/plain": [
              "1061    8\n",
              "1049    7\n",
              "1368    6\n",
              "1262    6\n",
              "1300    6\n",
              "       ..\n",
              "7570    1\n",
              "2238    1\n",
              "5408    1\n",
              "5292    1\n",
              "1697    1\n",
              "Name: Qtd de votos, Length: 2334, dtype: int64"
            ]
          },
          "metadata": {},
          "execution_count": 61
        }
      ]
    },
    {
      "cell_type": "code",
      "source": [
        "dfcopia['Qtd_Visualizações'].describe()"
      ],
      "metadata": {
        "colab": {
          "base_uri": "https://localhost:8080/"
        },
        "id": "53v7FanBhp4O",
        "outputId": "9f4a1689-4ca0-4c6c-8d2a-4aa9dcf6f191"
      },
      "execution_count": 62,
      "outputs": [
        {
          "output_type": "execute_result",
          "data": {
            "text/plain": [
              "count    7734.000000\n",
              "mean       25.417106\n",
              "std       127.215878\n",
              "min         0.600000\n",
              "25%        11.089000\n",
              "50%        14.930500\n",
              "75%        22.815000\n",
              "max      9137.939000\n",
              "Name: Qtd_Visualizações, dtype: float64"
            ]
          },
          "metadata": {},
          "execution_count": 62
        }
      ]
    },
    {
      "cell_type": "code",
      "source": [
        "dfcopia['Qtd_Visualizações'].loc[dfcopia['Qtd_Visualizações']>50].value_counts()"
      ],
      "metadata": {
        "colab": {
          "base_uri": "https://localhost:8080/"
        },
        "id": "csHDb8LXwQY4",
        "outputId": "47d4d2f7-a97c-4b95-81a6-6852b392c936"
      },
      "execution_count": 63,
      "outputs": [
        {
          "output_type": "execute_result",
          "data": {
            "text/plain": [
              "50.690     2\n",
              "86.518     1\n",
              "172.431    1\n",
              "77.075     1\n",
              "50.374     1\n",
              "          ..\n",
              "89.444     1\n",
              "81.707     1\n",
              "259.375    1\n",
              "62.145     1\n",
              "51.415     1\n",
              "Name: Qtd_Visualizações, Length: 508, dtype: int64"
            ]
          },
          "metadata": {},
          "execution_count": 63
        }
      ]
    },
    {
      "cell_type": "code",
      "source": [
        "dfcopia['Nota do Público'].describe()"
      ],
      "metadata": {
        "colab": {
          "base_uri": "https://localhost:8080/"
        },
        "id": "th9IEEEhh89B",
        "outputId": "a16195b1-a7c1-49a2-b70f-ac1587a0d42d"
      },
      "execution_count": 64,
      "outputs": [
        {
          "output_type": "execute_result",
          "data": {
            "text/plain": [
              "count    7734.000000\n",
              "mean        6.602599\n",
              "std         0.679836\n",
              "min         5.300000\n",
              "25%         6.100000\n",
              "50%         6.600000\n",
              "75%         7.100000\n",
              "max         8.700000\n",
              "Name: Nota do Público, dtype: float64"
            ]
          },
          "metadata": {},
          "execution_count": 64
        }
      ]
    },
    {
      "cell_type": "code",
      "source": [
        "dfcopia['Nota do Público'].loc[dfcopia['Nota do Público']>5].value_counts()"
      ],
      "metadata": {
        "colab": {
          "base_uri": "https://localhost:8080/"
        },
        "id": "2B-7Ll7HwAms",
        "outputId": "d5dfef46-e8e2-417b-b09e-aa6acd5c9fd5"
      },
      "execution_count": 65,
      "outputs": [
        {
          "output_type": "execute_result",
          "data": {
            "text/plain": [
              "6.7    412\n",
              "6.2    408\n",
              "6.5    403\n",
              "6.3    398\n",
              "6.4    398\n",
              "6.1    394\n",
              "6.6    393\n",
              "6.9    369\n",
              "6.8    364\n",
              "6.0    353\n",
              "7.0    336\n",
              "7.1    325\n",
              "5.9    309\n",
              "7.2    300\n",
              "7.3    272\n",
              "7.4    257\n",
              "5.7    256\n",
              "5.8    246\n",
              "7.5    227\n",
              "5.6    190\n",
              "5.5    171\n",
              "7.6    164\n",
              "5.4    150\n",
              "7.7    120\n",
              "7.8    117\n",
              "5.3    109\n",
              "7.9     86\n",
              "8.0     65\n",
              "8.1     45\n",
              "8.2     41\n",
              "8.3     23\n",
              "8.4     19\n",
              "8.5     10\n",
              "8.6      2\n",
              "8.7      2\n",
              "Name: Nota do Público, dtype: int64"
            ]
          },
          "metadata": {},
          "execution_count": 65
        }
      ]
    },
    {
      "cell_type": "markdown",
      "source": [
        "###Histograma das Notas do público para ver se as notas estão bem distribuídas e se é possivel utilizar os dados para calculos futuros."
      ],
      "metadata": {
        "id": "HKgdiRDeiNYl"
      }
    },
    {
      "cell_type": "code",
      "source": [
        "dfcopia['Nota do Público'].hist()"
      ],
      "metadata": {
        "colab": {
          "base_uri": "https://localhost:8080/",
          "height": 282
        },
        "id": "1GnfYElWEfVC",
        "outputId": "92e460a9-675d-4b85-a59f-522da3579f95"
      },
      "execution_count": 66,
      "outputs": [
        {
          "output_type": "execute_result",
          "data": {
            "text/plain": [
              "<Axes: >"
            ]
          },
          "metadata": {},
          "execution_count": 66
        },
        {
          "output_type": "display_data",
          "data": {
            "text/plain": [
              "<Figure size 432x288 with 1 Axes>"
            ],
            "image/png": "[encoded data removed]"
          },
          "metadata": {
            "needs_background": "light"
          }
        }
      ]
    },
    {
      "cell_type": "markdown",
      "source": [
        "# **Conclusão**\n",
        "\n",
        "Essas são algumas das técnicas de pré-processamento que podem ser utilizadas para tratamento dos dados antes da análise, é fundamental ter a capacidade de entender, explorar e tratar seus dados da melhor maneira possível.\n",
        "\n",
        "É muito complicado conseguir bons resultados em uma Análise que tenham quantidades altas de valores faltantes, essas lacunas podem te levar a conclusões completamente equívocas. Ao limpar o seu dataset você consegue obter informações mais claras e objetivas.\n",
        "\n",
        "As técnicas de pré-processamento e análise exploratória são fundamentais para obter uma compreensão completa dos dados antes de se aplicar técnicas de modelagem ou outras análises mais avançadas."
      ],
      "metadata": {
        "id": "DqA7g5X20j_S"
      }
    }
  ]
}